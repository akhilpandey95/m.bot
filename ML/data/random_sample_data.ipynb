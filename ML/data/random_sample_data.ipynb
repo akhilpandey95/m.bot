{
 "cells": [
  {
   "cell_type": "markdown",
   "metadata": {},
   "source": [
    "# Import the libs"
   ]
  },
  {
   "cell_type": "code",
   "execution_count": 79,
   "metadata": {},
   "outputs": [],
   "source": [
    "import json\n",
    "import random\n",
    "from math import floor\n",
    "from collections import defaultdict\n",
    "from shutil import copy"
   ]
  },
  {
   "cell_type": "markdown",
   "metadata": {},
   "source": [
    "# Read the data to a list"
   ]
  },
  {
   "cell_type": "code",
   "execution_count": 70,
   "metadata": {},
   "outputs": [],
   "source": [
    "with open('/home/hector/code/datadump-lab/figure-qa/train1/annotations.json') as js:\n",
    "    data = json.loads(js.read())"
   ]
  },
  {
   "cell_type": "markdown",
   "metadata": {},
   "source": [
    "# Prepare the data for training"
   ]
  },
  {
   "cell_type": "markdown",
   "metadata": {},
   "source": [
    "## seperate the pairs categorically"
   ]
  },
  {
   "cell_type": "code",
   "execution_count": 71,
   "metadata": {},
   "outputs": [],
   "source": [
    "d = defaultdict(dict)\n",
    "\n",
    "# dot line\n",
    "d['dot_line'] = [x for x in data if x['type'] == 'dot_line']\n",
    "\n",
    "# line\n",
    "d['line'] = [x for x in data if x['type'] == 'line']\n",
    "\n",
    "# pie\n",
    "d['pie'] = [x for x in data if x['type'] == 'pie']\n",
    "\n",
    "# h_bar\n",
    "d['h_bar'] = [x for x in data if x['type'] == 'hbar_categorical']\n",
    "\n",
    "# v_bar\n",
    "d['v_bar'] = [x for x in data if x['type'] == 'vbar_categorical']"
   ]
  },
  {
   "cell_type": "markdown",
   "metadata": {},
   "source": [
    "## randomly select 1000 images from 20K"
   ]
  },
  {
   "cell_type": "code",
   "execution_count": 90,
   "metadata": {},
   "outputs": [],
   "source": [
    "ran = random.sample(range(0,20000), 1000)\n",
    "\n",
    "# res = defaultdict(dict)\n",
    "\n",
    "# for i in ran:\n",
    "#     res[0][i] = d['v_bar'][i]['image_index']\n",
    "#     res[1][i] = d['h_bar'][i]['image_index']\n",
    "#     res[2][i] = d['line'][i]['image_index']\n",
    "#     res[3][i] = d['pie'][i]['image_index']\n",
    "#     res[4][i] = d['dot_line'][i]['image_index']"
   ]
  },
  {
   "cell_type": "markdown",
   "metadata": {},
   "source": [
    "## copy the files to data/train/{category}"
   ]
  },
  {
   "cell_type": "code",
   "execution_count": 92,
   "metadata": {},
   "outputs": [],
   "source": [
    "for i in ran:\n",
    "    copy('/home/hector/code/datadump-lab/figure-qa/train1/png/' + str(res[0][i]) + '.png' , '/home/hector/code/datadump-lab/figure-qa/train1/data/train/vbar/')\n",
    "    copy('/home/hector/code/datadump-lab/figure-qa/train1/png/' + str(res[1][i]) + '.png' , '/home/hector/code/datadump-lab/figure-qa/train1/data/train/hbar/')\n",
    "    copy('/home/hector/code/datadump-lab/figure-qa/train1/png/' + str(res[2][i]) + '.png' , '/home/hector/code/datadump-lab/figure-qa/train1/data/train/line/')\n",
    "    copy('/home/hector/code/datadump-lab/figure-qa/train1/png/' + str(res[3][i]) + '.png' , '/home/hector/code/datadump-lab/figure-qa/train1/data/train/pie/')\n",
    "    copy('/home/hector/code/datadump-lab/figure-qa/train1/png/' + str(res[4][i]) + '.png' , '/home/hector/code/datadump-lab/figure-qa/train1/data/train/dot_line/')"
   ]
  },
  {
   "cell_type": "markdown",
   "metadata": {},
   "source": []
  },
  {
   "cell_type": "markdown",
   "metadata": {},
   "source": [
    "# Preparing images for validation set - 1"
   ]
  },
  {
   "cell_type": "markdown",
   "metadata": {},
   "source": [
    "## seperate the pairs categorically"
   ]
  },
  {
   "cell_type": "code",
   "execution_count": 101,
   "metadata": {},
   "outputs": [],
   "source": [
    "with open('/home/hector/code/datadump-lab/figure-qa/validation1/annotations.json') as js:\n",
    "    data_val1 = json.loads(js.read())"
   ]
  },
  {
   "cell_type": "code",
   "execution_count": 105,
   "metadata": {},
   "outputs": [],
   "source": [
    "val1 = defaultdict(dict)\n",
    "\n",
    "# dot line\n",
    "val1['dot_line'] = [x for x in data_val1 if x['type'] == 'dot_line']\n",
    "\n",
    "# line\n",
    "val1['line'] = [x for x in data_val1 if x['type'] == 'line']\n",
    "\n",
    "# pie\n",
    "val1['pie'] = [x for x in data_val1 if x['type'] == 'pie']\n",
    "\n",
    "# h_bar\n",
    "val1['h_bar'] = [x for x in data_val1 if x['type'] == 'hbar_categorical']\n",
    "\n",
    "# v_bar\n",
    "val1['v_bar'] = [x for x in data_val1 if x['type'] == 'vbar_categorical']"
   ]
  },
  {
   "cell_type": "markdown",
   "metadata": {},
   "source": [
    "## randomly select 400 images from 20K"
   ]
  },
  {
   "cell_type": "code",
   "execution_count": 119,
   "metadata": {},
   "outputs": [],
   "source": [
    "ran_val1 = random.sample(range(0,1000), 400)\n",
    "\n",
    "# res_val1 = defaultdict(dict)\n",
    "\n",
    "# for i in ran_val1:\n",
    "#     res_val1[0][i] = val1['v_bar'][i]['image_index']\n",
    "#     res_val1[1][i] = val1['h_bar'][i]['image_index']\n",
    "#     res_val1[2][i] = val1['line'][i]['image_index']\n",
    "#     res_val1[3][i] = val1['pie'][i]['image_index']\n",
    "#     res_val1[4][i] = val1['dot_line'][i]['image_index']\n"
   ]
  },
  {
   "cell_type": "markdown",
   "metadata": {},
   "source": [
    "## copy the files to data/validation1/{category}"
   ]
  },
  {
   "cell_type": "code",
   "execution_count": 120,
   "metadata": {},
   "outputs": [],
   "source": [
    "for i in ran_val1:\n",
    "    copy('/home/hector/code/datadump-lab/figure-qa/validation1/png/' + str(val1['v_bar'][i]['image_index']) + '.png' , '/home/hector/code/datadump-lab/figure-qa/validation1/data/validation1/vbar/')\n",
    "    copy('/home/hector/code/datadump-lab/figure-qa/validation1/png/' + str(val1['h_bar'][i]['image_index']) + '.png' , '/home/hector/code/datadump-lab/figure-qa/validation1/data/validation1/hbar/')\n",
    "    copy('/home/hector/code/datadump-lab/figure-qa/validation1/png/' + str(val1['line'][i]['image_index']) + '.png' , '/home/hector/code/datadump-lab/figure-qa/validation1/data/validation1/line/')\n",
    "    copy('/home/hector/code/datadump-lab/figure-qa/validation1/png/' + str(val1['pie'][i]['image_index']) + '.png' , '/home/hector/code/datadump-lab/figure-qa/validation1/data/validation1/pie/')\n",
    "    copy('/home/hector/code/datadump-lab/figure-qa/validation1/png/' + str(val1['dot_line'][i]['image_index']) + '.png' , '/home/hector/code/datadump-lab/figure-qa/validation1/data/validation1/dot_line/')"
   ]
  },
  {
   "cell_type": "markdown",
   "metadata": {},
   "source": []
  },
  {
   "cell_type": "markdown",
   "metadata": {},
   "source": [
    "# Preparing images for validation set - 2"
   ]
  },
  {
   "cell_type": "markdown",
   "metadata": {},
   "source": [
    "## seperate the pairs categorically"
   ]
  },
  {
   "cell_type": "code",
   "execution_count": 121,
   "metadata": {},
   "outputs": [],
   "source": [
    "with open('/home/hector/code/datadump-lab/figure-qa/validation2/annotations.json') as js:\n",
    "    data_val2 = json.loads(js.read())"
   ]
  },
  {
   "cell_type": "code",
   "execution_count": 122,
   "metadata": {},
   "outputs": [],
   "source": [
    "val2 = defaultdict(dict)\n",
    "\n",
    "# dot line\n",
    "val2['dot_line'] = [x for x in data_val2 if x['type'] == 'dot_line']\n",
    "\n",
    "# line\n",
    "val2['line'] = [x for x in data_val2 if x['type'] == 'line']\n",
    "\n",
    "# pie\n",
    "val2['pie'] = [x for x in data_val2 if x['type'] == 'pie']\n",
    "\n",
    "# h_bar\n",
    "val2['h_bar'] = [x for x in data_val2 if x['type'] == 'hbar_categorical']\n",
    "\n",
    "# v_bar\n",
    "val2['v_bar'] = [x for x in data_val2 if x['type'] == 'vbar_categorical']"
   ]
  },
  {
   "cell_type": "markdown",
   "metadata": {},
   "source": [
    "## randomly select 400 images from 20K"
   ]
  },
  {
   "cell_type": "code",
   "execution_count": 123,
   "metadata": {},
   "outputs": [],
   "source": [
    "ran_val2 = random.sample(range(0,1000), 400)\n",
    "\n",
    "# res_val1 = defaultdict(dict)\n",
    "\n",
    "# for i in ran_val1:\n",
    "#     res_val1[0][i] = val1['v_bar'][i]['image_index']\n",
    "#     res_val1[1][i] = val1['h_bar'][i]['image_index']\n",
    "#     res_val1[2][i] = val1['line'][i]['image_index']\n",
    "#     res_val1[3][i] = val1['pie'][i]['image_index']\n",
    "#     res_val1[4][i] = val1['dot_line'][i]['image_index']\n"
   ]
  },
  {
   "cell_type": "markdown",
   "metadata": {},
   "source": [
    "## copy the files to data/validation2/{category}"
   ]
  },
  {
   "cell_type": "code",
   "execution_count": 124,
   "metadata": {},
   "outputs": [],
   "source": [
    "for i in ran_val2:\n",
    "    copy('/home/hector/code/datadump-lab/figure-qa/validation2/png/' + str(val1['v_bar'][i]['image_index']) + '.png' , '/home/hector/code/datadump-lab/figure-qa/validation2/data/validation2/vbar/')\n",
    "    copy('/home/hector/code/datadump-lab/figure-qa/validation2/png/' + str(val1['h_bar'][i]['image_index']) + '.png' , '/home/hector/code/datadump-lab/figure-qa/validation2/data/validation2/hbar/')\n",
    "    copy('/home/hector/code/datadump-lab/figure-qa/validation2/png/' + str(val1['line'][i]['image_index']) + '.png' , '/home/hector/code/datadump-lab/figure-qa/validation2/data/validation2/line/')\n",
    "    copy('/home/hector/code/datadump-lab/figure-qa/validation2/png/' + str(val1['pie'][i]['image_index']) + '.png' , '/home/hector/code/datadump-lab/figure-qa/validation2/data/validation2/pie/')\n",
    "    copy('/home/hector/code/datadump-lab/figure-qa/validation2/png/' + str(val1['dot_line'][i]['image_index']) + '.png' , '/home/hector/code/datadump-lab/figure-qa/validation2/data/validation2/dot_line/')"
   ]
  }
 ],
 "metadata": {
  "kernelspec": {
   "display_name": "Python 3",
   "language": "python",
   "name": "python3"
  },
  "language_info": {
   "codemirror_mode": {
    "name": "ipython",
    "version": 3
   },
   "file_extension": ".py",
   "mimetype": "text/x-python",
   "name": "python",
   "nbconvert_exporter": "python",
   "pygments_lexer": "ipython3",
   "version": "3.6.4"
  }
 },
 "nbformat": 4,
 "nbformat_minor": 2
}
